{
 "metadata": {
  "language_info": {
   "codemirror_mode": {
    "name": "ipython",
    "version": 3
   },
   "file_extension": ".py",
   "mimetype": "text/x-python",
   "name": "python",
   "nbconvert_exporter": "python",
   "pygments_lexer": "ipython3",
   "version": "3.6.10-final"
  },
  "orig_nbformat": 2,
  "kernelspec": {
   "name": "python361064bitenvl2rpnconda35ce9f4064a048b4acdb326ef7679538",
   "display_name": "Python 3.6.10 64-bit ('env_l2rpn': conda)"
  }
 },
 "nbformat": 4,
 "nbformat_minor": 2,
 "cells": [
  {
   "cell_type": "code",
   "execution_count": 1,
   "metadata": {},
   "outputs": [],
   "source": [
    "import grid2op\n",
    "import numpy as np\n",
    "from grid2op.Agent import DoNothingAgent"
   ]
  },
  {
   "cell_type": "code",
   "execution_count": 2,
   "metadata": {},
   "outputs": [],
   "source": [
    "env = grid2op.make(\"rte_case14_redisp\") # l2rpn_case14_sandbox\n",
    "agent = DoNothingAgent(env.action_space)\n",
    "\n",
    "obs = env.reset()\n",
    "rew = env.reward_range[0]\n",
    "done = False"
   ]
  },
  {
   "cell_type": "code",
   "execution_count": 3,
   "metadata": {},
   "outputs": [
    {
     "output_type": "execute_result",
     "data": {
      "text/plain": "array([ True,  True, False, False,  True])"
     },
     "metadata": {},
     "execution_count": 3
    }
   ],
   "source": [
    "env.gen_redispatchable"
   ]
  },
  {
   "cell_type": "code",
   "execution_count": 6,
   "metadata": {},
   "outputs": [
    {
     "output_type": "execute_result",
     "data": {
      "text/plain": "{'NO_OVERFLOW_DISCONNECTION': False,\n 'IGNORE_MIN_UP_DOWN_TIME': True,\n 'ALLOW_DISPATCH_GEN_SWITCH_OFF': True,\n 'NB_TIMESTEP_OVERFLOW_ALLOWED': 2,\n 'NB_TIMESTEP_RECONNECTION': 10,\n 'HARD_OVERFLOW_THRESHOLD': 2.0,\n 'ENV_DC': False,\n 'FORECAST_DC': False,\n 'MAX_SUB_CHANGED': 1,\n 'MAX_LINE_STATUS_CHANGED': 1,\n 'NB_TIMESTEP_COOLDOWN_LINE': 0,\n 'NB_TIMESTEP_COOLDOWN_SUB': 0}"
     },
     "metadata": {},
     "execution_count": 6
    }
   ],
   "source": [
    "env.parameters.to_dict()"
   ]
  },
  {
   "cell_type": "code",
   "execution_count": 3,
   "metadata": {},
   "outputs": [
    {
     "output_type": "execute_result",
     "data": {
      "text/plain": "array([40., 70.,  0.,  0.,  0., 70.], dtype=float32)"
     },
     "metadata": {},
     "execution_count": 3
    }
   ],
   "source": [
    "env.gen_cost_per_MW"
   ]
  },
  {
   "cell_type": "code",
   "execution_count": 3,
   "metadata": {},
   "outputs": [
    {
     "output_type": "execute_result",
     "data": {
      "text/plain": "array([0., 0., 0., 0., 0.], dtype=float32)"
     },
     "metadata": {},
     "execution_count": 3
    }
   ],
   "source": [
    "env.get_obs().target_dispatch"
   ]
  },
  {
   "cell_type": "code",
   "execution_count": 6,
   "metadata": {},
   "outputs": [
    {
     "output_type": "execute_result",
     "data": {
      "text/plain": "5"
     },
     "metadata": {},
     "execution_count": 6
    }
   ],
   "source": [
    "env.n_gen"
   ]
  },
  {
   "cell_type": "code",
   "execution_count": 5,
   "metadata": {},
   "outputs": [
    {
     "output_type": "execute_result",
     "data": {
      "text/plain": "array([3.8490018e+02, 3.8490018e+02, 2.2899711e+05, 2.2899711e+05,\n       2.2899711e+05, 1.5266474e+04, 2.2899711e+05, 3.8490018e+02,\n       3.8490018e+02, 1.8328580e+02, 3.8490018e+02, 3.8490018e+02,\n       2.2899711e+05, 2.2899711e+05, 6.9393062e+04, 3.8490018e+02,\n       3.8490018e+02, 2.4056261e+02, 3.4022427e+03, 3.4022427e+03],\n      dtype=float32)"
     },
     "metadata": {},
     "execution_count": 5
    }
   ],
   "source": [
    "env.get_thermal_limit()"
   ]
  },
  {
   "cell_type": "code",
   "execution_count": 15,
   "metadata": {
    "tags": []
   },
   "outputs": [
    {
     "output_type": "stream",
     "name": "stdout",
     "text": "[False False False False False False False False False False False False\n False False False False False False False False]\n[0.4463135  0.39749488 0.1377533  0.1745734  0.09882749 0.32277596\n 0.09506696 0.2714448  0.47793412 0.8714953  0.3802412  0.36823758\n 0.12878639 0.10744023 0.83211094 0.31076756 0.19732746 0.8781536\n 0.08645719 0.373654  ]\n[0 0 0 0 0 0 0 0 0 0 0 0 0 0 0 0 0 0 0 0]\n"
    }
   ],
   "source": [
    "print(env.backend.get_line_overflow())\n",
    "print(env.backend.get_relative_flow())\n",
    "obss = env.get_obs()\n",
    "print(500**np.array(obss.timestep_overflow) - 1)"
   ]
  },
  {
   "cell_type": "code",
   "execution_count": 27,
   "metadata": {
    "tags": []
   },
   "outputs": [
    {
     "output_type": "stream",
     "name": "stdout",
     "text": "0\n0\n6\n6\n1\n2019\n"
    }
   ],
   "source": [
    "print(obs.minute_of_hour)\n",
    "print(obs.hour_of_day)\n",
    "print(obs.day)\n",
    "print(obs.day_of_week)\n",
    "print(obs.month)\n",
    "print(obs.year)"
   ]
  },
  {
   "cell_type": "code",
   "execution_count": 34,
   "metadata": {},
   "outputs": [
    {
     "output_type": "execute_result",
     "data": {
      "text/plain": "array([0, 0, 0, 0, 0, 0, 0, 0, 0, 0, 0, 0, 0, 0, 0, 0, 0, 0, 0, 0])"
     },
     "metadata": {},
     "execution_count": 34
    }
   ],
   "source": [
    "obs.timestep_overflow"
   ]
  },
  {
   "cell_type": "code",
   "execution_count": 39,
   "metadata": {},
   "outputs": [
    {
     "output_type": "execute_result",
     "data": {
      "text/plain": "array([0.504     , 0.3685    , 0.38142857, 0.        , 0.24034223],\n      dtype=float32)"
     },
     "metadata": {},
     "execution_count": 39
    }
   ],
   "source": [
    "# input to NN\n",
    "obs.prod_p / obs.gen_pmax"
   ]
  },
  {
   "cell_type": "code",
   "execution_count": 49,
   "metadata": {},
   "outputs": [
    {
     "output_type": "execute_result",
     "data": {
      "text/plain": "array([0.4463135 , 0.39749488, 0.1377533 , 0.1745734 , 0.09882749,\n       0.32277596, 0.09506696, 0.2714448 , 0.47793412, 0.8714953 ,\n       0.3802412 , 0.36823758, 0.12878639, 0.10744023, 0.83211094,\n       0.31076756, 0.19732746, 0.8781536 , 0.08645719, 0.373654  ],\n      dtype=float32)"
     },
     "metadata": {},
     "execution_count": 49
    }
   ],
   "source": [
    "obs.rho"
   ]
  },
  {
   "cell_type": "code",
   "execution_count": 50,
   "metadata": {},
   "outputs": [
    {
     "output_type": "execute_result",
     "data": {
      "text/plain": "array([0.61157835, 0.5993737 , 0.5344383 , 0.54364336, 0.47529313,\n       0.58069396, 0.52376676, 0.5678612 , 0.61948353, 0.7178738 ,\n       0.5950603 , 0.4079406 , 0.5321966 , 0.52686006, 0.7080277 ,\n       0.5776919 , 0.54933184, 0.7195384 , 0.4783857 , 0.5934135 ],\n      dtype=float32)"
     },
     "metadata": {},
     "execution_count": 50
    }
   ],
   "source": [
    "# input to NN\n",
    "limit = 2 #200% of power line disconnects automatically\n",
    "(np.sign(obs.p_or) * obs.rho - (-limit)) / (limit - (-limit))"
   ]
  },
  {
   "cell_type": "code",
   "execution_count": 51,
   "metadata": {},
   "outputs": [
    {
     "output_type": "execute_result",
     "data": {
      "text/plain": "['year',\n 'month',\n 'day',\n 'hour_of_day',\n 'minute_of_hour',\n 'day_of_week',\n 'prod_p',\n 'prod_q',\n 'prod_v',\n 'load_p',\n 'load_q',\n 'load_v',\n 'p_or',\n 'q_or',\n 'v_or',\n 'a_or',\n 'p_ex',\n 'q_ex',\n 'v_ex',\n 'a_ex',\n 'rho',\n 'line_status',\n 'timestep_overflow',\n 'topo_vect',\n 'time_before_cooldown_line',\n 'time_before_cooldown_sub',\n 'time_next_maintenance',\n 'duration_next_maintenance',\n 'target_dispatch',\n 'actual_dispatch']"
     },
     "metadata": {},
     "execution_count": 51
    }
   ],
   "source": [
    "obs.attr_list_vect"
   ]
  },
  {
   "cell_type": "code",
   "execution_count": 20,
   "metadata": {
    "tags": []
   },
   "outputs": [
    {
     "output_type": "stream",
     "name": "stdout",
     "text": "['0_1_0' '0_4_1' '8_9_2' '8_13_3' '9_10_4' '11_12_5' '12_13_6' '1_2_7'\n '1_3_8' '1_4_9' '2_3_10' '3_4_11' '5_10_12' '5_11_13' '5_12_14' '3_6_15'\n '3_8_16' '4_5_17' '6_7_18' '6_8_19']\n[ 1  4  9 13 10 12 13  2  3  4  3  4 10 11 12  6  8  5  7  8]\n[ 0  0  8  8  9 11 12  1  1  1  2  3  5  5  5  3  3  4  6  6]\n"
    },
    {
     "output_type": "error",
     "ename": "TypeError",
     "evalue": "only size-1 arrays can be converted to Python scalars",
     "traceback": [
      "\u001b[1;31m---------------------------------------------------------------------------\u001b[0m",
      "\u001b[1;31mTypeError\u001b[0m                                 Traceback (most recent call last)",
      "\u001b[1;32m<ipython-input-20-09075bec068d>\u001b[0m in \u001b[0;36m<module>\u001b[1;34m\u001b[0m\n\u001b[0;32m      3\u001b[0m \u001b[0mprint\u001b[0m\u001b[1;33m(\u001b[0m\u001b[0mobs\u001b[0m\u001b[1;33m.\u001b[0m\u001b[0mline_ex_to_subid\u001b[0m\u001b[1;33m)\u001b[0m\u001b[1;33m\u001b[0m\u001b[1;33m\u001b[0m\u001b[0m\n\u001b[0;32m      4\u001b[0m \u001b[0mprint\u001b[0m\u001b[1;33m(\u001b[0m\u001b[0mobs\u001b[0m\u001b[1;33m.\u001b[0m\u001b[0mline_or_to_subid\u001b[0m\u001b[1;33m)\u001b[0m\u001b[1;33m\u001b[0m\u001b[1;33m\u001b[0m\u001b[0m\n\u001b[1;32m----> 5\u001b[1;33m \u001b[0mprint\u001b[0m\u001b[1;33m(\u001b[0m\u001b[1;34m'-'\u001b[0m\u001b[1;33m.\u001b[0m\u001b[0mjoin\u001b[0m\u001b[1;33m(\u001b[0m\u001b[0mint\u001b[0m\u001b[1;33m(\u001b[0m\u001b[0mobs\u001b[0m\u001b[1;33m.\u001b[0m\u001b[0mline_status\u001b[0m\u001b[1;33m)\u001b[0m\u001b[1;33m)\u001b[0m\u001b[1;33m)\u001b[0m\u001b[1;33m\u001b[0m\u001b[1;33m\u001b[0m\u001b[0m\n\u001b[0m",
      "\u001b[1;31mTypeError\u001b[0m: only size-1 arrays can be converted to Python scalars"
     ]
    }
   ],
   "source": [
    "import numpy as np\n",
    "print(obs.name_line)\n",
    "print(obs.line_ex_to_subid)\n",
    "print(obs.line_or_to_subid)\n",
    "print('-'.join(int(obs.line_status)))"
   ]
  },
  {
   "cell_type": "code",
   "execution_count": 26,
   "metadata": {},
   "outputs": [
    {
     "output_type": "execute_result",
     "data": {
      "text/plain": "array([False, False, False, False, False, False, False, False, False,\n        True, False, False, False, False,  True, False, False,  True,\n       False, False])"
     },
     "metadata": {},
     "execution_count": 26
    }
   ],
   "source": [
    "obs.rho > 0.8"
   ]
  },
  {
   "cell_type": "code",
   "execution_count": 21,
   "metadata": {},
   "outputs": [
    {
     "output_type": "execute_result",
     "data": {
      "text/plain": "(array([ 9, 14, 17], dtype=int64),)"
     },
     "metadata": {},
     "execution_count": 21
    }
   ],
   "source": [
    "np.where(obs.rho > 0.8)"
   ]
  },
  {
   "cell_type": "code",
   "execution_count": 27,
   "metadata": {},
   "outputs": [
    {
     "output_type": "execute_result",
     "data": {
      "text/plain": "17"
     },
     "metadata": {},
     "execution_count": 27
    }
   ],
   "source": [
    "np.argmax(obs.rho)"
   ]
  },
  {
   "cell_type": "code",
   "execution_count": 42,
   "metadata": {},
   "outputs": [
    {
     "output_type": "execute_result",
     "data": {
      "text/plain": "3"
     },
     "metadata": {},
     "execution_count": 42
    }
   ],
   "source": [
    "sum(obs.gen_redispatchable)"
   ]
  },
  {
   "cell_type": "code",
   "execution_count": 30,
   "metadata": {
    "tags": []
   },
   "outputs": [
    {
     "output_type": "stream",
     "name": "stdout",
     "text": "from 4 to 5\n"
    }
   ],
   "source": [
    "print(\"from {} to {}\".format(obs.line_or_to_subid[17], obs.line_ex_to_subid[17]))"
   ]
  },
  {
   "cell_type": "code",
   "execution_count": 4,
   "metadata": {},
   "outputs": [
    {
     "output_type": "execute_result",
     "data": {
      "text/plain": "array([75.6    , 73.7    , 26.7    ,  0.     , 72.10267], dtype=float32)"
     },
     "metadata": {},
     "execution_count": 4
    }
   ],
   "source": [
    "obs.prod_p"
   ]
  },
  {
   "cell_type": "code",
   "execution_count": 5,
   "metadata": {},
   "outputs": [],
   "source": [
    "#act = agent.act(obs, rew, done)\n",
    "#obs, rew, done, info = env.step(act)"
   ]
  },
  {
   "cell_type": "code",
   "execution_count": 6,
   "metadata": {},
   "outputs": [
    {
     "output_type": "execute_result",
     "data": {
      "text/plain": "array([ True,  True,  True,  True,  True,  True,  True,  True,  True,\n        True,  True,  True,  True,  True,  True,  True,  True,  True,\n        True,  True])"
     },
     "metadata": {},
     "execution_count": 6
    }
   ],
   "source": [
    "obs.line_status"
   ]
  },
  {
   "cell_type": "code",
   "execution_count": 7,
   "metadata": {},
   "outputs": [
    {
     "output_type": "execute_result",
     "data": {
      "text/plain": "array([0., 0., 0., 0., 0.], dtype=float32)"
     },
     "metadata": {},
     "execution_count": 7
    }
   ],
   "source": [
    "obs.actual_dispatch"
   ]
  },
  {
   "cell_type": "code",
   "execution_count": 11,
   "metadata": {},
   "outputs": [
    {
     "output_type": "execute_result",
     "data": {
      "text/plain": "array([1, 2, 5, 7, 0])"
     },
     "metadata": {},
     "execution_count": 11
    }
   ],
   "source": [
    "obs.gen_to_subid"
   ]
  },
  {
   "cell_type": "code",
   "execution_count": 12,
   "metadata": {},
   "outputs": [
    {
     "output_type": "execute_result",
     "data": {
      "text/plain": "array([ 3.9404995e+01,  3.2697674e+01,  2.5208673e+00,  7.8256321e+00,\n       -6.5202169e+00,  1.6684830e+00,  7.3431721e+00,  2.4547935e+01,\n        3.8133049e+01,  3.0225504e+01,  1.5380751e+01, -3.2670959e+01,\n        1.0081982e+01,  7.4650497e+00,  1.7967918e+01,  2.4900978e+01,\n        1.4345522e+01,  2.1414949e+01, -2.9087843e-14,  2.4900978e+01],\n      dtype=float32)"
     },
     "metadata": {},
     "execution_count": 12
    }
   ],
   "source": [
    "obs.p_or"
   ]
  },
  {
   "cell_type": "code",
   "execution_count": 13,
   "metadata": {},
   "outputs": [
    {
     "output_type": "execute_result",
     "data": {
      "text/plain": "array([21.8, 82.6, 14.8, 45. ,  7.1, 12.6, 28.9,  9. ,  3.4,  5.7, 12. ],\n      dtype=float32)"
     },
     "metadata": {},
     "execution_count": 13
    }
   ],
   "source": [
    "obs.load_p"
   ]
  },
  {
   "cell_type": "code",
   "execution_count": 18,
   "metadata": {},
   "outputs": [
    {
     "output_type": "execute_result",
     "data": {
      "text/plain": "array([ 5., 10.,  0.,  0., 10.], dtype=float32)"
     },
     "metadata": {},
     "execution_count": 18
    }
   ],
   "source": [
    "obs.gen_max_ramp_up"
   ]
  },
  {
   "cell_type": "code",
   "execution_count": 19,
   "metadata": {},
   "outputs": [
    {
     "output_type": "execute_result",
     "data": {
      "text/plain": "array([ 5., 10.,  0.,  0., 10.], dtype=float32)"
     },
     "metadata": {},
     "execution_count": 19
    }
   ],
   "source": [
    "obs.gen_max_ramp_down"
   ]
  },
  {
   "cell_type": "code",
   "execution_count": 37,
   "metadata": {},
   "outputs": [
    {
     "output_type": "execute_result",
     "data": {
      "text/plain": "array([0, 1, 4])"
     },
     "metadata": {},
     "execution_count": 37
    }
   ],
   "source": [
    "np.array(range(obs.n_gen))[obs.gen_redispatchable]"
   ]
  },
  {
   "cell_type": "code",
   "execution_count": 50,
   "metadata": {
    "tags": []
   },
   "outputs": [
    {
     "output_type": "stream",
     "name": "stdout",
     "text": "[1 2 5 7 0]\n0\n75.6\n1\n73.7\n2\n26.7\n3\n0.0\n4\n72.10267\n"
    }
   ],
   "source": [
    "print(obs.gen_to_subid)\n",
    "for i, g in enumerate(obs.prod_p):\n",
    "    print(i)\n",
    "    print(g)"
   ]
  },
  {
   "cell_type": "code",
   "execution_count": 44,
   "metadata": {},
   "outputs": [
    {
     "output_type": "execute_result",
     "data": {
      "text/plain": "array([ 0,  1,  2,  3,  4,  5,  6,  7,  8,  9, 10, 11, 12, 13])"
     },
     "metadata": {},
     "execution_count": 44
    }
   ],
   "source": [
    "np.array(range(obs.n_sub))"
   ]
  },
  {
   "cell_type": "code",
   "execution_count": 7,
   "metadata": {
    "tags": []
   },
   "outputs": [
    {
     "output_type": "stream",
     "name": "stdout",
     "text": "{0: [(0, -10), (1, -5), (4, -10)], 1: [(0, 0), (1, -5), (4, -10)], 2: [(0, 10), (1, -5), (4, -10)], 3: [(0, -10), (1, 0), (4, -10)], 4: [(0, 0), (1, 0), (4, -10)], 5: [(0, 10), (1, 0), (4, -10)], 6: [(0, -10), (1, 5), (4, -10)], 7: [(0, 0), (1, 5), (4, -10)], 8: [(0, 10), (1, 5), (4, -10)], 9: [(0, -10), (1, -5), (4, 0)], 10: [(0, 0), (1, -5), (4, 0)], 11: [(0, 10), (1, -5), (4, 0)], 12: [(0, -10), (1, 0), (4, 0)], 13: [(0, 0), (1, 0), (4, 0)], 14: [(0, 10), (1, 0), (4, 0)], 15: [(0, -10), (1, 5), (4, 0)], 16: [(0, 0), (1, 5), (4, 0)], 17: [(0, 10), (1, 5), (4, 0)], 18: [(0, -10), (1, -5), (4, 10)], 19: [(0, 0), (1, -5), (4, 10)], 20: [(0, 10), (1, -5), (4, 10)], 21: [(0, -10), (1, 0), (4, 10)], 22: [(0, 0), (1, 0), (4, 10)], 23: [(0, 10), (1, 0), (4, 10)], 24: [(0, -10), (1, 5), (4, 10)], 25: [(0, 0), (1, 5), (4, 10)], 26: [(0, 10), (1, 5), (4, 10)]}\n"
    }
   ],
   "source": [
    "res_dict = {}\n",
    "gen_cont = {}\n",
    "redis_gen_ids = [0,1,4]\n",
    "gen_max_ramp_down = [10, 5, 0, 0, 10]\n",
    "gen_max_ramp_up = [10, 5, 0, 0, 10]\n",
    "\n",
    "res_dict = {}\n",
    "gen_action_ixs = [0 for i in range(3)]\n",
    "for i in range(3**3):\n",
    "    res_dict[i] = _add_group_action(gen_action_ixs)\n",
    "    gen_action_ixs = _change_action_ixs(i, gen_action_ixs)\n",
    "\n",
    "print(res_dict)"
   ]
  },
  {
   "cell_type": "code",
   "execution_count": 2,
   "metadata": {},
   "outputs": [],
   "source": [
    "def _add_group_action(gen_action):\n",
    "    one_action = []\n",
    "    for i, g_id in enumerate(redis_gen_ids):\n",
    "        act_g = _get_gen_action(g_id, gen_action[i])\n",
    "        one_action.append((g_id, act_g))\n",
    "    return one_action"
   ]
  },
  {
   "cell_type": "code",
   "execution_count": 1,
   "metadata": {},
   "outputs": [],
   "source": [
    "def _get_gen_action(gen_id, action_ix):\n",
    "    \"\"\"\n",
    "    Define the granularity of actions. Intermediated values could be added.\n",
    "    If add here, change parameter self.ACTIONS_PER_GEN\n",
    "    \"\"\"\n",
    "    if action_ix == 0:\n",
    "        return -gen_max_ramp_down[gen_id]\n",
    "    elif action_ix == 1:\n",
    "        return 0\n",
    "    elif action_ix == 2:\n",
    "        return gen_max_ramp_up[gen_id]\n",
    "    else:\n",
    "        raise Exception(\"Action index out of bounds\")"
   ]
  },
  {
   "cell_type": "code",
   "execution_count": 3,
   "metadata": {},
   "outputs": [],
   "source": [
    "def _change_action_ixs(act_ix, gen_action_ixs):\n",
    "    \"\"\"\n",
    "    cont_g_ix tells which generator is changing.\n",
    "    gen_action_ixs contains action index for each generator.\n",
    "    \"\"\"\n",
    "    limits = [3 ** i for i in range(3)]\n",
    "    # [1, 3, 9]\n",
    "    \n",
    "    for ix, gen_lim in enumerate(limits):\n",
    "        if (act_ix + 1) % gen_lim == 0:\n",
    "            if gen_action_ixs[ix] == (3 - 1):\n",
    "                gen_action_ixs[ix] = 0\n",
    "            else:\n",
    "                gen_action_ixs[ix] += 1\n",
    "\n",
    "    return gen_action_ixs"
   ]
  },
  {
   "cell_type": "code",
   "execution_count": null,
   "metadata": {},
   "outputs": [],
   "source": []
  }
 ]
}