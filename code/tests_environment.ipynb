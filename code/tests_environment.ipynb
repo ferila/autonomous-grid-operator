{
 "metadata": {
  "language_info": {
   "codemirror_mode": {
    "name": "ipython",
    "version": 3
   },
   "file_extension": ".py",
   "mimetype": "text/x-python",
   "name": "python",
   "nbconvert_exporter": "python",
   "pygments_lexer": "ipython3",
   "version": "3.6.10-final"
  },
  "orig_nbformat": 2,
  "kernelspec": {
   "name": "python361064bitenvl2rpnconda35ce9f4064a048b4acdb326ef7679538",
   "display_name": "Python 3.6.10 64-bit ('env_l2rpn': conda)"
  }
 },
 "nbformat": 4,
 "nbformat_minor": 2,
 "cells": [
  {
   "cell_type": "code",
   "execution_count": 1,
   "metadata": {},
   "outputs": [],
   "source": [
    "import grid2op\n",
    "from grid2op.Agent import DoNothingAgent"
   ]
  },
  {
   "cell_type": "code",
   "execution_count": 16,
   "metadata": {},
   "outputs": [],
   "source": [
    "env = grid2op.make(\"rte_case14_redisp\")\n",
    "agent = DoNothingAgent(env.action_space)\n",
    "\n",
    "obs = env.reset()\n",
    "rew = env.reward_range[0]\n",
    "done = False"
   ]
  },
  {
   "cell_type": "code",
   "execution_count": 17,
   "metadata": {},
   "outputs": [
    {
     "output_type": "execute_result",
     "data": {
      "text/plain": "array([0.4463135 , 0.39749488, 0.1377533 , 0.1745734 , 0.09882749,\n       0.32277596, 0.09506696, 0.2714448 , 0.47793412, 0.8714953 ,\n       0.3802412 , 0.36823758, 0.12878639, 0.10744023, 0.83211094,\n       0.31076756, 0.19732746, 0.8781536 , 0.08645719, 0.373654  ],\n      dtype=float32)"
     },
     "metadata": {},
     "execution_count": 17
    }
   ],
   "source": [
    "obs.rho"
   ]
  },
  {
   "cell_type": "code",
   "execution_count": 18,
   "metadata": {},
   "outputs": [
    {
     "output_type": "execute_result",
     "data": {
      "text/plain": "array([75.6    , 73.7    , 26.7    ,  0.     , 72.10267], dtype=float32)"
     },
     "metadata": {},
     "execution_count": 18
    }
   ],
   "source": [
    "obs.prod_p"
   ]
  },
  {
   "cell_type": "code",
   "execution_count": 19,
   "metadata": {},
   "outputs": [
    {
     "output_type": "execute_result",
     "data": {
      "text/plain": "array([0., 0., 0., 0., 0.], dtype=float32)"
     },
     "metadata": {},
     "execution_count": 19
    }
   ],
   "source": [
    "obs.actual_dispatch"
   ]
  },
  {
   "cell_type": "code",
   "execution_count": 20,
   "metadata": {},
   "outputs": [],
   "source": [
    "act = agent.act(obs, rew, done)\n",
    "obs, rew, done, info = env.step(act)"
   ]
  },
  {
   "cell_type": "code",
   "execution_count": 21,
   "metadata": {},
   "outputs": [
    {
     "output_type": "execute_result",
     "data": {
      "text/plain": "array([ True,  True,  True,  True,  True,  True,  True,  True,  True,\n        True,  True,  True,  True,  True,  True,  True,  True,  True,\n        True,  True])"
     },
     "metadata": {},
     "execution_count": 21
    }
   ],
   "source": [
    "obs.line_status"
   ]
  },
  {
   "cell_type": "code",
   "execution_count": 22,
   "metadata": {},
   "outputs": [
    {
     "output_type": "execute_result",
     "data": {
      "text/plain": "array([0., 0., 0., 0., 0.], dtype=float32)"
     },
     "metadata": {},
     "execution_count": 22
    }
   ],
   "source": [
    "obs.actual_dispatch"
   ]
  },
  {
   "cell_type": "code",
   "execution_count": 32,
   "metadata": {},
   "outputs": [
    {
     "output_type": "error",
     "ename": "AttributeError",
     "evalue": "'CompleteObservation_rte_case14_redisp' object has no attribute 'get_thermal_limit'",
     "traceback": [
      "\u001b[1;31m---------------------------------------------------------------------------\u001b[0m",
      "\u001b[1;31mAttributeError\u001b[0m                            Traceback (most recent call last)",
      "\u001b[1;32m<ipython-input-32-4ed8327f2d3b>\u001b[0m in \u001b[0;36m<module>\u001b[1;34m\u001b[0m\n\u001b[1;32m----> 1\u001b[1;33m \u001b[0mobs\u001b[0m\u001b[1;33m.\u001b[0m\u001b[0mget_thermal_limit\u001b[0m\u001b[1;33m(\u001b[0m\u001b[1;33m)\u001b[0m\u001b[1;33m\u001b[0m\u001b[1;33m\u001b[0m\u001b[0m\n\u001b[0m",
      "\u001b[1;31mAttributeError\u001b[0m: 'CompleteObservation_rte_case14_redisp' object has no attribute 'get_thermal_limit'"
     ]
    }
   ],
   "source": [
    "obs"
   ]
  },
  {
   "cell_type": "code",
   "execution_count": null,
   "metadata": {},
   "outputs": [],
   "source": []
  }
 ]
}