{
 "cells": [
  {
   "cell_type": "code",
   "execution_count": 1,
   "metadata": {},
   "outputs": [],
   "source": [
    "import numpy as np\n",
    "import pandas as pd\n",
    "import pandapower as pp\n",
    "import grid2op\n",
    "pd.options.display.max_columns = 40"
   ]
  },
  {
   "cell_type": "code",
   "execution_count": 2,
   "metadata": {},
   "outputs": [],
   "source": [
    "# rte_case14_redisp\n",
    "# l2rpn_case14_sandbox\n",
    "# wcci_test\n",
    "\n",
    "# l2rpn_2019\n",
    "# l2rpn_wcci_2020\n",
    "# rte_case14_realistic\n",
    "case = \"rte_case14_redisp\" \n",
    "path_grid = \"C:\\\\Users\\\\Felipe\\\\data_grid2op\\\\{}\\\\grid.json\".format(case)"
   ]
  },
  {
   "cell_type": "code",
   "execution_count": 25,
   "metadata": {
    "tags": []
   },
   "outputs": [
    {
     "output_type": "stream",
     "name": "stderr",
     "text": "rte_case14_redisp.tar.bz2: 0.00B [00:00, ?B/s]downloading the training data, this may take a while.\nrte_case14_redisp.tar.bz2: 292MB [00:38, 7.67MB/s]\nExtract the tar archive in \"C:\\Users\\Felipe\\data_grid2op\"\nYou may now use the environment \"rte_case14_redisp\" with the available data by invoking:\n\tenv = grid2op.make(\"rte_case14_redisp\")\n"
    }
   ],
   "source": [
    "env = grid2op.make(case)"
   ]
  },
  {
   "cell_type": "code",
   "execution_count": 38,
   "metadata": {},
   "outputs": [
    {
     "output_type": "execute_result",
     "data": {
      "text/plain": "    df  hv_bus  i0_percent  in_service  lv_bus  max_loading_percent  \\\n0  1.0       5         0.0        True       4                100.0   \n1  1.0      30         0.0        True      26                100.0   \n2  1.0      31         0.0        True      28                100.0   \n3  1.0      32         0.0        True      33                100.0   \n\n        name  parallel  pfe_kw  shift_degree  sn_mva std_type  tap_max  \\\n0  37_36_179         1     0.0           0.0  9900.0     None      NaN   \n1  62_58_180         1     0.0           0.0  9900.0     None      NaN   \n2  63_60_181         1     0.0           0.0  9900.0     None      NaN   \n3  64_65_182         1     0.0           0.0  9900.0     None      NaN   \n\n   tap_neutral  tap_min  tap_phase_shifter  tap_pos tap_side  tap_step_degree  \\\n0          0.0      NaN              False     -1.0       hv              NaN   \n1          0.0      NaN              False     -1.0       hv              NaN   \n2          0.0      NaN              False     -1.0       hv              NaN   \n3          0.0      NaN              False     -1.0       hv              NaN   \n\n   tap_step_percent  vn_hv_kv  vn_lv_kv  vk_percent  vkr_percent  old_hv_bus  \\\n0               6.5     345.0     138.0      371.25          0.0          37   \n1               4.0     345.0     138.0      382.14          0.0          62   \n2               1.5     345.0     138.0      265.32          0.0          63   \n3               6.5     345.0     138.0      366.30          0.0          64   \n\n   old_lv_bus   old_name  \n0          36  37_36_179  \n1          58  62_58_180  \n2          60  63_60_181  \n3          65  64_65_182  ",
      "text/html": "<div>\n<style scoped>\n    .dataframe tbody tr th:only-of-type {\n        vertical-align: middle;\n    }\n\n    .dataframe tbody tr th {\n        vertical-align: top;\n    }\n\n    .dataframe thead th {\n        text-align: right;\n    }\n</style>\n<table border=\"1\" class=\"dataframe\">\n  <thead>\n    <tr style=\"text-align: right;\">\n      <th></th>\n      <th>df</th>\n      <th>hv_bus</th>\n      <th>i0_percent</th>\n      <th>in_service</th>\n      <th>lv_bus</th>\n      <th>max_loading_percent</th>\n      <th>name</th>\n      <th>parallel</th>\n      <th>pfe_kw</th>\n      <th>shift_degree</th>\n      <th>sn_mva</th>\n      <th>std_type</th>\n      <th>tap_max</th>\n      <th>tap_neutral</th>\n      <th>tap_min</th>\n      <th>tap_phase_shifter</th>\n      <th>tap_pos</th>\n      <th>tap_side</th>\n      <th>tap_step_degree</th>\n      <th>tap_step_percent</th>\n      <th>vn_hv_kv</th>\n      <th>vn_lv_kv</th>\n      <th>vk_percent</th>\n      <th>vkr_percent</th>\n      <th>old_hv_bus</th>\n      <th>old_lv_bus</th>\n      <th>old_name</th>\n    </tr>\n  </thead>\n  <tbody>\n    <tr>\n      <th>0</th>\n      <td>1.0</td>\n      <td>5</td>\n      <td>0.0</td>\n      <td>True</td>\n      <td>4</td>\n      <td>100.0</td>\n      <td>37_36_179</td>\n      <td>1</td>\n      <td>0.0</td>\n      <td>0.0</td>\n      <td>9900.0</td>\n      <td>None</td>\n      <td>NaN</td>\n      <td>0.0</td>\n      <td>NaN</td>\n      <td>False</td>\n      <td>-1.0</td>\n      <td>hv</td>\n      <td>NaN</td>\n      <td>6.5</td>\n      <td>345.0</td>\n      <td>138.0</td>\n      <td>371.25</td>\n      <td>0.0</td>\n      <td>37</td>\n      <td>36</td>\n      <td>37_36_179</td>\n    </tr>\n    <tr>\n      <th>1</th>\n      <td>1.0</td>\n      <td>30</td>\n      <td>0.0</td>\n      <td>True</td>\n      <td>26</td>\n      <td>100.0</td>\n      <td>62_58_180</td>\n      <td>1</td>\n      <td>0.0</td>\n      <td>0.0</td>\n      <td>9900.0</td>\n      <td>None</td>\n      <td>NaN</td>\n      <td>0.0</td>\n      <td>NaN</td>\n      <td>False</td>\n      <td>-1.0</td>\n      <td>hv</td>\n      <td>NaN</td>\n      <td>4.0</td>\n      <td>345.0</td>\n      <td>138.0</td>\n      <td>382.14</td>\n      <td>0.0</td>\n      <td>62</td>\n      <td>58</td>\n      <td>62_58_180</td>\n    </tr>\n    <tr>\n      <th>2</th>\n      <td>1.0</td>\n      <td>31</td>\n      <td>0.0</td>\n      <td>True</td>\n      <td>28</td>\n      <td>100.0</td>\n      <td>63_60_181</td>\n      <td>1</td>\n      <td>0.0</td>\n      <td>0.0</td>\n      <td>9900.0</td>\n      <td>None</td>\n      <td>NaN</td>\n      <td>0.0</td>\n      <td>NaN</td>\n      <td>False</td>\n      <td>-1.0</td>\n      <td>hv</td>\n      <td>NaN</td>\n      <td>1.5</td>\n      <td>345.0</td>\n      <td>138.0</td>\n      <td>265.32</td>\n      <td>0.0</td>\n      <td>63</td>\n      <td>60</td>\n      <td>63_60_181</td>\n    </tr>\n    <tr>\n      <th>3</th>\n      <td>1.0</td>\n      <td>32</td>\n      <td>0.0</td>\n      <td>True</td>\n      <td>33</td>\n      <td>100.0</td>\n      <td>64_65_182</td>\n      <td>1</td>\n      <td>0.0</td>\n      <td>0.0</td>\n      <td>9900.0</td>\n      <td>None</td>\n      <td>NaN</td>\n      <td>0.0</td>\n      <td>NaN</td>\n      <td>False</td>\n      <td>-1.0</td>\n      <td>hv</td>\n      <td>NaN</td>\n      <td>6.5</td>\n      <td>345.0</td>\n      <td>138.0</td>\n      <td>366.30</td>\n      <td>0.0</td>\n      <td>64</td>\n      <td>65</td>\n      <td>64_65_182</td>\n    </tr>\n  </tbody>\n</table>\n</div>"
     },
     "metadata": {},
     "execution_count": 38
    }
   ],
   "source": [
    "grid.trafo"
   ]
  },
  {
   "cell_type": "code",
   "execution_count": 4,
   "metadata": {
    "tags": []
   },
   "outputs": [
    {
     "output_type": "stream",
     "name": "stdout",
     "text": "gen_bus 1 connected to line: True\ngen_bus 1 connected to trafo: False\ngen_bus 2 connected to line: True\ngen_bus 2 connected to trafo: False\ngen_bus 5 connected to line: True\ngen_bus 5 connected to trafo: True\ngen_bus 7 connected to line: False\ngen_bus 7 connected to trafo: True\n"
    }
   ],
   "source": [
    "grid = pp.from_json(path_grid)\n",
    "for i in np.array(grid.gen[\"bus\"]):\n",
    "    to_line = i in np.unique(grid.line[\"from_bus\"]) or i in np.unique(grid.line[\"to_bus\"])\n",
    "    print(\"gen_bus {} connected to line: {}\".format(i, to_line))\n",
    "    to_trafo = i in np.unique(grid.trafo[\"hv_bus\"]) or i in np.unique(grid.trafo[\"lv_bus\"])\n",
    "    print(\"gen_bus {} connected to trafo: {}\".format(i, to_trafo))"
   ]
  },
  {
   "cell_type": "code",
   "execution_count": null,
   "metadata": {},
   "outputs": [],
   "source": [
    "grid.trafo[[\"lv_bus\", \"hv_bus\"]][(grid.trafo[\"\"])]"
   ]
  },
  {
   "cell_type": "code",
   "execution_count": 5,
   "metadata": {},
   "outputs": [
    {
     "output_type": "execute_result",
     "data": {
      "text/plain": "    c_nf_per_km   df  from_bus  g_us_per_km  in_service  length_km  \\\n0    768.484773  1.0         0          0.0        True        1.0   \n1    716.088084  1.0         0          0.0        True        1.0   \n10     0.000000  1.0         8          0.0        True        1.0   \n11     0.000000  1.0         8          0.0        True        1.0   \n12     0.000000  1.0         9          0.0        True        1.0   \n13     0.000000  1.0        11          0.0        True        1.0   \n14     0.000000  1.0        12          0.0        True        1.0   \n2    637.493051  1.0         1          0.0        True        1.0   \n3    494.857619  1.0         1          0.0        True        1.0   \n4    503.590401  1.0         1          0.0        True        1.0   \n5    186.299339  1.0         2          0.0        True        1.0   \n6      0.000000  1.0         3          0.0        True        1.0   \n7      0.000000  1.0         5          0.0        True        1.0   \n8      0.000000  1.0         5          0.0        True        1.0   \n9      0.000000  1.0         5          0.0        True        1.0   \n\n        max_i_ka  max_loading_percent  name  parallel  r_ohm_per_km std_type  \\\n0      42.339020                100.0  None         1      3.532005     None   \n1      42.339020                100.0  None         1      9.846967     None   \n10  27479.652235                100.0  None         1      0.000014     None   \n11  27479.652235                100.0  None         1      0.000055     None   \n12  27479.652235                100.0  None         1      0.000035     None   \n13  27479.652235                100.0  None         1      0.000096     None   \n14  27479.652235                100.0  None         1      0.000074     None   \n2      42.339020                100.0  None         1      8.563928     None   \n3      42.339020                100.0  None         1     10.590547     None   \n4      42.339020                100.0  None         1     10.379138     None   \n5      42.339020                100.0  None         1     12.212573     None   \n6      42.339020                100.0  None         1      2.433038     None   \n7   27479.652235                100.0  None         1      0.000041     None   \n8   27479.652235                100.0  None         1      0.000053     None   \n9   27479.652235                100.0  None         1      0.000029     None   \n\n    to_bus type  x_ohm_per_km  \n0        1   ol     10.783732  \n1        4   ol     40.649040  \n10       9   ol      0.000037  \n11      13   ol      0.000117  \n12      10   ol      0.000083  \n13      12   ol      0.000086  \n14      13   ol      0.000151  \n2        2   ol     36.080033  \n3        3   ol     32.134320  \n4        4   ol     31.689630  \n5        3   ol     31.170217  \n6        4   ol      7.674548  \n7       10   ol      0.000086  \n8       11   ol      0.000111  \n9       12   ol      0.000056  ",
      "text/html": "<div>\n<style scoped>\n    .dataframe tbody tr th:only-of-type {\n        vertical-align: middle;\n    }\n\n    .dataframe tbody tr th {\n        vertical-align: top;\n    }\n\n    .dataframe thead th {\n        text-align: right;\n    }\n</style>\n<table border=\"1\" class=\"dataframe\">\n  <thead>\n    <tr style=\"text-align: right;\">\n      <th></th>\n      <th>c_nf_per_km</th>\n      <th>df</th>\n      <th>from_bus</th>\n      <th>g_us_per_km</th>\n      <th>in_service</th>\n      <th>length_km</th>\n      <th>max_i_ka</th>\n      <th>max_loading_percent</th>\n      <th>name</th>\n      <th>parallel</th>\n      <th>r_ohm_per_km</th>\n      <th>std_type</th>\n      <th>to_bus</th>\n      <th>type</th>\n      <th>x_ohm_per_km</th>\n    </tr>\n  </thead>\n  <tbody>\n    <tr>\n      <th>0</th>\n      <td>768.484773</td>\n      <td>1.0</td>\n      <td>0</td>\n      <td>0.0</td>\n      <td>True</td>\n      <td>1.0</td>\n      <td>42.339020</td>\n      <td>100.0</td>\n      <td>None</td>\n      <td>1</td>\n      <td>3.532005</td>\n      <td>None</td>\n      <td>1</td>\n      <td>ol</td>\n      <td>10.783732</td>\n    </tr>\n    <tr>\n      <th>1</th>\n      <td>716.088084</td>\n      <td>1.0</td>\n      <td>0</td>\n      <td>0.0</td>\n      <td>True</td>\n      <td>1.0</td>\n      <td>42.339020</td>\n      <td>100.0</td>\n      <td>None</td>\n      <td>1</td>\n      <td>9.846967</td>\n      <td>None</td>\n      <td>4</td>\n      <td>ol</td>\n      <td>40.649040</td>\n    </tr>\n    <tr>\n      <th>10</th>\n      <td>0.000000</td>\n      <td>1.0</td>\n      <td>8</td>\n      <td>0.0</td>\n      <td>True</td>\n      <td>1.0</td>\n      <td>27479.652235</td>\n      <td>100.0</td>\n      <td>None</td>\n      <td>1</td>\n      <td>0.000014</td>\n      <td>None</td>\n      <td>9</td>\n      <td>ol</td>\n      <td>0.000037</td>\n    </tr>\n    <tr>\n      <th>11</th>\n      <td>0.000000</td>\n      <td>1.0</td>\n      <td>8</td>\n      <td>0.0</td>\n      <td>True</td>\n      <td>1.0</td>\n      <td>27479.652235</td>\n      <td>100.0</td>\n      <td>None</td>\n      <td>1</td>\n      <td>0.000055</td>\n      <td>None</td>\n      <td>13</td>\n      <td>ol</td>\n      <td>0.000117</td>\n    </tr>\n    <tr>\n      <th>12</th>\n      <td>0.000000</td>\n      <td>1.0</td>\n      <td>9</td>\n      <td>0.0</td>\n      <td>True</td>\n      <td>1.0</td>\n      <td>27479.652235</td>\n      <td>100.0</td>\n      <td>None</td>\n      <td>1</td>\n      <td>0.000035</td>\n      <td>None</td>\n      <td>10</td>\n      <td>ol</td>\n      <td>0.000083</td>\n    </tr>\n    <tr>\n      <th>13</th>\n      <td>0.000000</td>\n      <td>1.0</td>\n      <td>11</td>\n      <td>0.0</td>\n      <td>True</td>\n      <td>1.0</td>\n      <td>27479.652235</td>\n      <td>100.0</td>\n      <td>None</td>\n      <td>1</td>\n      <td>0.000096</td>\n      <td>None</td>\n      <td>12</td>\n      <td>ol</td>\n      <td>0.000086</td>\n    </tr>\n    <tr>\n      <th>14</th>\n      <td>0.000000</td>\n      <td>1.0</td>\n      <td>12</td>\n      <td>0.0</td>\n      <td>True</td>\n      <td>1.0</td>\n      <td>27479.652235</td>\n      <td>100.0</td>\n      <td>None</td>\n      <td>1</td>\n      <td>0.000074</td>\n      <td>None</td>\n      <td>13</td>\n      <td>ol</td>\n      <td>0.000151</td>\n    </tr>\n    <tr>\n      <th>2</th>\n      <td>637.493051</td>\n      <td>1.0</td>\n      <td>1</td>\n      <td>0.0</td>\n      <td>True</td>\n      <td>1.0</td>\n      <td>42.339020</td>\n      <td>100.0</td>\n      <td>None</td>\n      <td>1</td>\n      <td>8.563928</td>\n      <td>None</td>\n      <td>2</td>\n      <td>ol</td>\n      <td>36.080033</td>\n    </tr>\n    <tr>\n      <th>3</th>\n      <td>494.857619</td>\n      <td>1.0</td>\n      <td>1</td>\n      <td>0.0</td>\n      <td>True</td>\n      <td>1.0</td>\n      <td>42.339020</td>\n      <td>100.0</td>\n      <td>None</td>\n      <td>1</td>\n      <td>10.590547</td>\n      <td>None</td>\n      <td>3</td>\n      <td>ol</td>\n      <td>32.134320</td>\n    </tr>\n    <tr>\n      <th>4</th>\n      <td>503.590401</td>\n      <td>1.0</td>\n      <td>1</td>\n      <td>0.0</td>\n      <td>True</td>\n      <td>1.0</td>\n      <td>42.339020</td>\n      <td>100.0</td>\n      <td>None</td>\n      <td>1</td>\n      <td>10.379138</td>\n      <td>None</td>\n      <td>4</td>\n      <td>ol</td>\n      <td>31.689630</td>\n    </tr>\n    <tr>\n      <th>5</th>\n      <td>186.299339</td>\n      <td>1.0</td>\n      <td>2</td>\n      <td>0.0</td>\n      <td>True</td>\n      <td>1.0</td>\n      <td>42.339020</td>\n      <td>100.0</td>\n      <td>None</td>\n      <td>1</td>\n      <td>12.212573</td>\n      <td>None</td>\n      <td>3</td>\n      <td>ol</td>\n      <td>31.170217</td>\n    </tr>\n    <tr>\n      <th>6</th>\n      <td>0.000000</td>\n      <td>1.0</td>\n      <td>3</td>\n      <td>0.0</td>\n      <td>True</td>\n      <td>1.0</td>\n      <td>42.339020</td>\n      <td>100.0</td>\n      <td>None</td>\n      <td>1</td>\n      <td>2.433038</td>\n      <td>None</td>\n      <td>4</td>\n      <td>ol</td>\n      <td>7.674548</td>\n    </tr>\n    <tr>\n      <th>7</th>\n      <td>0.000000</td>\n      <td>1.0</td>\n      <td>5</td>\n      <td>0.0</td>\n      <td>True</td>\n      <td>1.0</td>\n      <td>27479.652235</td>\n      <td>100.0</td>\n      <td>None</td>\n      <td>1</td>\n      <td>0.000041</td>\n      <td>None</td>\n      <td>10</td>\n      <td>ol</td>\n      <td>0.000086</td>\n    </tr>\n    <tr>\n      <th>8</th>\n      <td>0.000000</td>\n      <td>1.0</td>\n      <td>5</td>\n      <td>0.0</td>\n      <td>True</td>\n      <td>1.0</td>\n      <td>27479.652235</td>\n      <td>100.0</td>\n      <td>None</td>\n      <td>1</td>\n      <td>0.000053</td>\n      <td>None</td>\n      <td>11</td>\n      <td>ol</td>\n      <td>0.000111</td>\n    </tr>\n    <tr>\n      <th>9</th>\n      <td>0.000000</td>\n      <td>1.0</td>\n      <td>5</td>\n      <td>0.0</td>\n      <td>True</td>\n      <td>1.0</td>\n      <td>27479.652235</td>\n      <td>100.0</td>\n      <td>None</td>\n      <td>1</td>\n      <td>0.000029</td>\n      <td>None</td>\n      <td>12</td>\n      <td>ol</td>\n      <td>0.000056</td>\n    </tr>\n  </tbody>\n</table>\n</div>"
     },
     "metadata": {},
     "execution_count": 5
    }
   ],
   "source": [
    "#grid.line[[\"from_bus\",\"to_bus\"]][(grid.line[\"from_bus\"] == 4) + (grid.line[\"to_bus\"] == 4)]\n",
    "grid.line"
   ]
  },
  {
   "cell_type": "code",
   "execution_count": 42,
   "metadata": {},
   "outputs": [
    {
     "output_type": "execute_result",
     "data": {
      "text/plain": "(14, 7)"
     },
     "metadata": {},
     "execution_count": 42
    }
   ],
   "source": [
    "grid.bus.shape"
   ]
  },
  {
   "cell_type": "code",
   "execution_count": 23,
   "metadata": {},
   "outputs": [
    {
     "output_type": "execute_result",
     "data": {
      "text/plain": "   name  bus  p_mw  vm_pu  sn_mva  min_q_mvar  max_q_mvar  scaling  slack  \\\n0  None    1  40.0  1.045     NaN       -40.0        50.0      1.0  False   \n1  None    2   0.0  1.010     NaN         0.0        40.0      1.0  False   \n2  None    5   0.0  1.070     NaN        -6.0        24.0      1.0  False   \n3  None    5   0.0  1.070     NaN        -6.0        24.0      1.0  False   \n4  None    7   0.0  1.090     NaN        -6.0        24.0      1.0  False   \n\n   in_service  type  controllable  min_p_mw  max_p_mw  \n0        True  None          True       0.0     140.0  \n1        True  None          True       0.0     100.0  \n2        True  None          True       0.0     100.0  \n3        True  None          True       0.0     100.0  \n4        True  None          True       0.0     100.0  ",
      "text/html": "<div>\n<style scoped>\n    .dataframe tbody tr th:only-of-type {\n        vertical-align: middle;\n    }\n\n    .dataframe tbody tr th {\n        vertical-align: top;\n    }\n\n    .dataframe thead th {\n        text-align: right;\n    }\n</style>\n<table border=\"1\" class=\"dataframe\">\n  <thead>\n    <tr style=\"text-align: right;\">\n      <th></th>\n      <th>name</th>\n      <th>bus</th>\n      <th>p_mw</th>\n      <th>vm_pu</th>\n      <th>sn_mva</th>\n      <th>min_q_mvar</th>\n      <th>max_q_mvar</th>\n      <th>scaling</th>\n      <th>slack</th>\n      <th>in_service</th>\n      <th>type</th>\n      <th>controllable</th>\n      <th>min_p_mw</th>\n      <th>max_p_mw</th>\n    </tr>\n  </thead>\n  <tbody>\n    <tr>\n      <th>0</th>\n      <td>None</td>\n      <td>1</td>\n      <td>40.0</td>\n      <td>1.045</td>\n      <td>NaN</td>\n      <td>-40.0</td>\n      <td>50.0</td>\n      <td>1.0</td>\n      <td>False</td>\n      <td>True</td>\n      <td>None</td>\n      <td>True</td>\n      <td>0.0</td>\n      <td>140.0</td>\n    </tr>\n    <tr>\n      <th>1</th>\n      <td>None</td>\n      <td>2</td>\n      <td>0.0</td>\n      <td>1.010</td>\n      <td>NaN</td>\n      <td>0.0</td>\n      <td>40.0</td>\n      <td>1.0</td>\n      <td>False</td>\n      <td>True</td>\n      <td>None</td>\n      <td>True</td>\n      <td>0.0</td>\n      <td>100.0</td>\n    </tr>\n    <tr>\n      <th>2</th>\n      <td>None</td>\n      <td>5</td>\n      <td>0.0</td>\n      <td>1.070</td>\n      <td>NaN</td>\n      <td>-6.0</td>\n      <td>24.0</td>\n      <td>1.0</td>\n      <td>False</td>\n      <td>True</td>\n      <td>None</td>\n      <td>True</td>\n      <td>0.0</td>\n      <td>100.0</td>\n    </tr>\n    <tr>\n      <th>3</th>\n      <td>None</td>\n      <td>5</td>\n      <td>0.0</td>\n      <td>1.070</td>\n      <td>NaN</td>\n      <td>-6.0</td>\n      <td>24.0</td>\n      <td>1.0</td>\n      <td>False</td>\n      <td>True</td>\n      <td>None</td>\n      <td>True</td>\n      <td>0.0</td>\n      <td>100.0</td>\n    </tr>\n    <tr>\n      <th>4</th>\n      <td>None</td>\n      <td>7</td>\n      <td>0.0</td>\n      <td>1.090</td>\n      <td>NaN</td>\n      <td>-6.0</td>\n      <td>24.0</td>\n      <td>1.0</td>\n      <td>False</td>\n      <td>True</td>\n      <td>None</td>\n      <td>True</td>\n      <td>0.0</td>\n      <td>100.0</td>\n    </tr>\n  </tbody>\n</table>\n</div>"
     },
     "metadata": {},
     "execution_count": 23
    }
   ],
   "source": [
    "grid.gen"
   ]
  },
  {
   "cell_type": "code",
   "execution_count": 28,
   "metadata": {},
   "outputs": [],
   "source": [
    "None"
   ]
  },
  {
   "cell_type": "code",
   "execution_count": 27,
   "metadata": {},
   "outputs": [
    {
     "output_type": "execute_result",
     "data": {
      "text/plain": "    df  hv_bus  i0_percent  in_service  lv_bus  max_loading_percent  name  \\\n0  1.0       3         0.0        True       6                100.0  None   \n1  1.0       3         0.0        True       8                100.0  None   \n2  1.0       4         0.0        True       5                100.0  None   \n3  1.0       6         0.0        True       7                100.0  None   \n4  1.0       6         0.0        True       8                100.0  None   \n\n   parallel  pfe_kw  shift_degree  sn_mva std_type  tap_max  tap_neutral  \\\n0         1     0.0           0.0  9900.0     None      NaN          0.0   \n1         1     0.0           0.0  9900.0     None      NaN          0.0   \n2         1     0.0           0.0  9900.0     None      NaN          0.0   \n3         1     0.0           0.0  9900.0     None      NaN          NaN   \n4         1     0.0           0.0  9900.0     None      NaN          NaN   \n\n   tap_min  tap_phase_shifter  tap_pos tap_side  tap_step_degree  \\\n0      NaN              False     -1.0       hv              NaN   \n1      NaN              False     -1.0       hv              NaN   \n2      NaN              False     -1.0       hv              NaN   \n3      NaN              False      NaN     None              NaN   \n4      NaN              False      NaN     None              NaN   \n\n   tap_step_percent  vn_hv_kv  vn_lv_kv  vk_percent  vkr_percent  \n0               2.2     135.0    14.000    2070.288          0.0  \n1               3.1     135.0     0.208    5506.182          0.0  \n2               6.8     135.0     0.208    2494.998          0.0  \n3               NaN      14.0    12.000    1743.885          0.0  \n4               NaN      14.0     0.208    1089.099          0.0  ",
      "text/html": "<div>\n<style scoped>\n    .dataframe tbody tr th:only-of-type {\n        vertical-align: middle;\n    }\n\n    .dataframe tbody tr th {\n        vertical-align: top;\n    }\n\n    .dataframe thead th {\n        text-align: right;\n    }\n</style>\n<table border=\"1\" class=\"dataframe\">\n  <thead>\n    <tr style=\"text-align: right;\">\n      <th></th>\n      <th>df</th>\n      <th>hv_bus</th>\n      <th>i0_percent</th>\n      <th>in_service</th>\n      <th>lv_bus</th>\n      <th>max_loading_percent</th>\n      <th>name</th>\n      <th>parallel</th>\n      <th>pfe_kw</th>\n      <th>shift_degree</th>\n      <th>sn_mva</th>\n      <th>std_type</th>\n      <th>tap_max</th>\n      <th>tap_neutral</th>\n      <th>tap_min</th>\n      <th>tap_phase_shifter</th>\n      <th>tap_pos</th>\n      <th>tap_side</th>\n      <th>tap_step_degree</th>\n      <th>tap_step_percent</th>\n      <th>vn_hv_kv</th>\n      <th>vn_lv_kv</th>\n      <th>vk_percent</th>\n      <th>vkr_percent</th>\n    </tr>\n  </thead>\n  <tbody>\n    <tr>\n      <th>0</th>\n      <td>1.0</td>\n      <td>3</td>\n      <td>0.0</td>\n      <td>True</td>\n      <td>6</td>\n      <td>100.0</td>\n      <td>None</td>\n      <td>1</td>\n      <td>0.0</td>\n      <td>0.0</td>\n      <td>9900.0</td>\n      <td>None</td>\n      <td>NaN</td>\n      <td>0.0</td>\n      <td>NaN</td>\n      <td>False</td>\n      <td>-1.0</td>\n      <td>hv</td>\n      <td>NaN</td>\n      <td>2.2</td>\n      <td>135.0</td>\n      <td>14.000</td>\n      <td>2070.288</td>\n      <td>0.0</td>\n    </tr>\n    <tr>\n      <th>1</th>\n      <td>1.0</td>\n      <td>3</td>\n      <td>0.0</td>\n      <td>True</td>\n      <td>8</td>\n      <td>100.0</td>\n      <td>None</td>\n      <td>1</td>\n      <td>0.0</td>\n      <td>0.0</td>\n      <td>9900.0</td>\n      <td>None</td>\n      <td>NaN</td>\n      <td>0.0</td>\n      <td>NaN</td>\n      <td>False</td>\n      <td>-1.0</td>\n      <td>hv</td>\n      <td>NaN</td>\n      <td>3.1</td>\n      <td>135.0</td>\n      <td>0.208</td>\n      <td>5506.182</td>\n      <td>0.0</td>\n    </tr>\n    <tr>\n      <th>2</th>\n      <td>1.0</td>\n      <td>4</td>\n      <td>0.0</td>\n      <td>True</td>\n      <td>5</td>\n      <td>100.0</td>\n      <td>None</td>\n      <td>1</td>\n      <td>0.0</td>\n      <td>0.0</td>\n      <td>9900.0</td>\n      <td>None</td>\n      <td>NaN</td>\n      <td>0.0</td>\n      <td>NaN</td>\n      <td>False</td>\n      <td>-1.0</td>\n      <td>hv</td>\n      <td>NaN</td>\n      <td>6.8</td>\n      <td>135.0</td>\n      <td>0.208</td>\n      <td>2494.998</td>\n      <td>0.0</td>\n    </tr>\n    <tr>\n      <th>3</th>\n      <td>1.0</td>\n      <td>6</td>\n      <td>0.0</td>\n      <td>True</td>\n      <td>7</td>\n      <td>100.0</td>\n      <td>None</td>\n      <td>1</td>\n      <td>0.0</td>\n      <td>0.0</td>\n      <td>9900.0</td>\n      <td>None</td>\n      <td>NaN</td>\n      <td>NaN</td>\n      <td>NaN</td>\n      <td>False</td>\n      <td>NaN</td>\n      <td>None</td>\n      <td>NaN</td>\n      <td>NaN</td>\n      <td>14.0</td>\n      <td>12.000</td>\n      <td>1743.885</td>\n      <td>0.0</td>\n    </tr>\n    <tr>\n      <th>4</th>\n      <td>1.0</td>\n      <td>6</td>\n      <td>0.0</td>\n      <td>True</td>\n      <td>8</td>\n      <td>100.0</td>\n      <td>None</td>\n      <td>1</td>\n      <td>0.0</td>\n      <td>0.0</td>\n      <td>9900.0</td>\n      <td>None</td>\n      <td>NaN</td>\n      <td>NaN</td>\n      <td>NaN</td>\n      <td>False</td>\n      <td>NaN</td>\n      <td>None</td>\n      <td>NaN</td>\n      <td>NaN</td>\n      <td>14.0</td>\n      <td>0.208</td>\n      <td>1089.099</td>\n      <td>0.0</td>\n    </tr>\n  </tbody>\n</table>\n</div>"
     },
     "metadata": {},
     "execution_count": 27
    }
   ],
   "source": [
    "grid.trafo"
   ]
  },
  {
   "cell_type": "code",
   "execution_count": 30,
   "metadata": {},
   "outputs": [
    {
     "output_type": "execute_result",
     "data": {
      "text/plain": "array([ 0,  0,  8,  8,  9, 11, 12,  1,  1,  1,  2,  3,  5,  5,  5,  3,  3,\n        4,  6,  6])"
     },
     "metadata": {},
     "execution_count": 30
    }
   ],
   "source": [
    "env.backend.line_or_to_subid"
   ]
  },
  {
   "cell_type": "code",
   "execution_count": 14,
   "metadata": {},
   "outputs": [
    {
     "output_type": "execute_result",
     "data": {
      "text/plain": "array([ 3,  6,  3,  3,  6,  3,  3,  6,  3,  6,  3,  3,  4,  5,  4,  3, 17,\n        3,  4,  3,  3,  9,  5, 10,  3,  3,  9,  5,  5,  7,  2,  3,  5,  7,\n        3,  7])"
     },
     "metadata": {},
     "execution_count": 14
    }
   ],
   "source": [
    "env.backend.sub_info"
   ]
  },
  {
   "cell_type": "code",
   "execution_count": null,
   "metadata": {},
   "outputs": [],
   "source": [
    "\"\"\":attr:`GridObjects.name_load`\n",
    ":attr:`GridObjects.name_gen`\n",
    ":attr:`GridObjects.name_line`\n",
    ":attr:`GridObjects.name_sub`\n",
    ":attr:`GridObjects.n_line`\n",
    ":attr:`GridObjects.n_gen`\n",
    ":attr:`GridObjects.n_load`\n",
    ":attr:`GridObjects.n_sub`\n",
    ":attr:`GridObjects.sub_info`\n",
    ":attr:`GridObjects.dim_topo`\n",
    ":attr:`GridObjects.load_to_subid`\n",
    ":attr:`GridObjects.gen_to_subid`\n",
    ":attr:`GridObjects.line_or_to_subid`\n",
    ":attr:`GridObjects.line_ex_to_subid`\n",
    ":attr:`GridObjects.load_to_sub_pos`\n",
    ":attr:`GridObjects.gen_to_sub_pos`\n",
    ":attr:`GridObjects.line_or_to_sub_pos`\n",
    ":attr:`GridObjects.line_ex_to_sub_pos`\n",
    "    \"\"\""
   ]
  },
  {
   "cell_type": "code",
   "execution_count": 32,
   "metadata": {},
   "outputs": [
    {
     "output_type": "execute_result",
     "data": {
      "text/plain": "array(['0_1_0', '0_4_1', '8_9_2', '8_13_3', '9_10_4', '11_12_5',\n       '12_13_6', '1_2_7', '1_3_8', '1_4_9', '2_3_10', '3_4_11',\n       '5_10_12', '5_11_13', '5_12_14', '3_6_15', '3_8_16', '4_5_17',\n       '6_7_18', '6_8_19'], dtype='<U7')"
     },
     "metadata": {},
     "execution_count": 32
    }
   ],
   "source": [
    "env.name_line"
   ]
  },
  {
   "cell_type": "code",
   "execution_count": 33,
   "metadata": {
    "tags": []
   },
   "outputs": [
    {
     "output_type": "stream",
     "name": "stdout",
     "text": "True\nTrue\nTrue\nTrue\nTrue\nTrue\nTrue\nTrue\nTrue\nTrue\nTrue\nTrue\nTrue\nTrue\nTrue\nTrue\nTrue\nTrue\nTrue\nTrue\n"
    }
   ],
   "source": [
    "obs = env.reset()\n",
    "for line_id in range(obs.n_line):\n",
    "    print (obs.line_status[line_id])"
   ]
  },
  {
   "cell_type": "code",
   "execution_count": 33,
   "metadata": {},
   "outputs": [],
   "source": [
    "a = pd.DataFrame(grid.trafo[[\"lv_bus\", \"hv_bus\"]])"
   ]
  },
  {
   "cell_type": "code",
   "execution_count": 34,
   "metadata": {},
   "outputs": [],
   "source": [
    "a[\"x\"] = 0.1"
   ]
  },
  {
   "cell_type": "code",
   "execution_count": 35,
   "metadata": {},
   "outputs": [
    {
     "output_type": "execute_result",
     "data": {
      "text/plain": "   lv_bus  hv_bus    x\n0       4       5  0.1\n1      26      30  0.1\n2      28      31  0.1\n3      33      32  0.1",
      "text/html": "<div>\n<style scoped>\n    .dataframe tbody tr th:only-of-type {\n        vertical-align: middle;\n    }\n\n    .dataframe tbody tr th {\n        vertical-align: top;\n    }\n\n    .dataframe thead th {\n        text-align: right;\n    }\n</style>\n<table border=\"1\" class=\"dataframe\">\n  <thead>\n    <tr style=\"text-align: right;\">\n      <th></th>\n      <th>lv_bus</th>\n      <th>hv_bus</th>\n      <th>x</th>\n    </tr>\n  </thead>\n  <tbody>\n    <tr>\n      <th>0</th>\n      <td>4</td>\n      <td>5</td>\n      <td>0.1</td>\n    </tr>\n    <tr>\n      <th>1</th>\n      <td>26</td>\n      <td>30</td>\n      <td>0.1</td>\n    </tr>\n    <tr>\n      <th>2</th>\n      <td>28</td>\n      <td>31</td>\n      <td>0.1</td>\n    </tr>\n    <tr>\n      <th>3</th>\n      <td>33</td>\n      <td>32</td>\n      <td>0.1</td>\n    </tr>\n  </tbody>\n</table>\n</div>"
     },
     "metadata": {},
     "execution_count": 35
    }
   ],
   "source": [
    "a"
   ]
  },
  {
   "cell_type": "code",
   "execution_count": 45,
   "metadata": {},
   "outputs": [
    {
     "output_type": "execute_result",
     "data": {
      "text/plain": "    in_service  max_vm_pu  min_vm_pu name type    vn_kv zone\n0         True       1.06       0.94    1    b  135.000    1\n1         True       1.06       0.94    2    b  135.000    1\n10        True       1.06       0.94   11    b    0.208    1\n11        True       1.06       0.94   12    b    0.208    1\n12        True       1.06       0.94   13    b    0.208    1\n13        True       1.06       0.94   14    b    0.208    1\n2         True       1.06       0.94    3    b  135.000    1\n3         True       1.06       0.94    4    b  135.000    1\n4         True       1.06       0.94    5    b  135.000    1\n5         True       1.06       0.94    6    b    0.208    1\n6         True       1.06       0.94    7    b   14.000    1\n7         True       1.06       0.94    8    b   12.000    1\n8         True       1.06       0.94    9    b    0.208    1\n9         True       1.06       0.94   10    b    0.208    1",
      "text/html": "<div>\n<style scoped>\n    .dataframe tbody tr th:only-of-type {\n        vertical-align: middle;\n    }\n\n    .dataframe tbody tr th {\n        vertical-align: top;\n    }\n\n    .dataframe thead th {\n        text-align: right;\n    }\n</style>\n<table border=\"1\" class=\"dataframe\">\n  <thead>\n    <tr style=\"text-align: right;\">\n      <th></th>\n      <th>in_service</th>\n      <th>max_vm_pu</th>\n      <th>min_vm_pu</th>\n      <th>name</th>\n      <th>type</th>\n      <th>vn_kv</th>\n      <th>zone</th>\n    </tr>\n  </thead>\n  <tbody>\n    <tr>\n      <th>0</th>\n      <td>True</td>\n      <td>1.06</td>\n      <td>0.94</td>\n      <td>1</td>\n      <td>b</td>\n      <td>135.000</td>\n      <td>1</td>\n    </tr>\n    <tr>\n      <th>1</th>\n      <td>True</td>\n      <td>1.06</td>\n      <td>0.94</td>\n      <td>2</td>\n      <td>b</td>\n      <td>135.000</td>\n      <td>1</td>\n    </tr>\n    <tr>\n      <th>10</th>\n      <td>True</td>\n      <td>1.06</td>\n      <td>0.94</td>\n      <td>11</td>\n      <td>b</td>\n      <td>0.208</td>\n      <td>1</td>\n    </tr>\n    <tr>\n      <th>11</th>\n      <td>True</td>\n      <td>1.06</td>\n      <td>0.94</td>\n      <td>12</td>\n      <td>b</td>\n      <td>0.208</td>\n      <td>1</td>\n    </tr>\n    <tr>\n      <th>12</th>\n      <td>True</td>\n      <td>1.06</td>\n      <td>0.94</td>\n      <td>13</td>\n      <td>b</td>\n      <td>0.208</td>\n      <td>1</td>\n    </tr>\n    <tr>\n      <th>13</th>\n      <td>True</td>\n      <td>1.06</td>\n      <td>0.94</td>\n      <td>14</td>\n      <td>b</td>\n      <td>0.208</td>\n      <td>1</td>\n    </tr>\n    <tr>\n      <th>2</th>\n      <td>True</td>\n      <td>1.06</td>\n      <td>0.94</td>\n      <td>3</td>\n      <td>b</td>\n      <td>135.000</td>\n      <td>1</td>\n    </tr>\n    <tr>\n      <th>3</th>\n      <td>True</td>\n      <td>1.06</td>\n      <td>0.94</td>\n      <td>4</td>\n      <td>b</td>\n      <td>135.000</td>\n      <td>1</td>\n    </tr>\n    <tr>\n      <th>4</th>\n      <td>True</td>\n      <td>1.06</td>\n      <td>0.94</td>\n      <td>5</td>\n      <td>b</td>\n      <td>135.000</td>\n      <td>1</td>\n    </tr>\n    <tr>\n      <th>5</th>\n      <td>True</td>\n      <td>1.06</td>\n      <td>0.94</td>\n      <td>6</td>\n      <td>b</td>\n      <td>0.208</td>\n      <td>1</td>\n    </tr>\n    <tr>\n      <th>6</th>\n      <td>True</td>\n      <td>1.06</td>\n      <td>0.94</td>\n      <td>7</td>\n      <td>b</td>\n      <td>14.000</td>\n      <td>1</td>\n    </tr>\n    <tr>\n      <th>7</th>\n      <td>True</td>\n      <td>1.06</td>\n      <td>0.94</td>\n      <td>8</td>\n      <td>b</td>\n      <td>12.000</td>\n      <td>1</td>\n    </tr>\n    <tr>\n      <th>8</th>\n      <td>True</td>\n      <td>1.06</td>\n      <td>0.94</td>\n      <td>9</td>\n      <td>b</td>\n      <td>0.208</td>\n      <td>1</td>\n    </tr>\n    <tr>\n      <th>9</th>\n      <td>True</td>\n      <td>1.06</td>\n      <td>0.94</td>\n      <td>10</td>\n      <td>b</td>\n      <td>0.208</td>\n      <td>1</td>\n    </tr>\n  </tbody>\n</table>\n</div>"
     },
     "metadata": {},
     "execution_count": 45
    }
   ],
   "source": [
    "grid.bus"
   ]
  },
  {
   "cell_type": "code",
   "execution_count": 47,
   "metadata": {},
   "outputs": [
    {
     "output_type": "execute_result",
     "data": {
      "text/plain": "14"
     },
     "metadata": {},
     "execution_count": 47
    }
   ],
   "source": [
    "grid.bus.shape[0]"
   ]
  },
  {
   "cell_type": "code",
   "execution_count": null,
   "metadata": {},
   "outputs": [],
   "source": []
  }
 ],
 "metadata": {
  "language_info": {
   "codemirror_mode": {
    "name": "ipython",
    "version": 3
   },
   "file_extension": ".py",
   "mimetype": "text/x-python",
   "name": "python",
   "nbconvert_exporter": "python",
   "pygments_lexer": "ipython3",
   "version": "3.6.10-final"
  },
  "orig_nbformat": 2,
  "kernelspec": {
   "name": "python361064bitenvl2rpnconda35ce9f4064a048b4acdb326ef7679538",
   "display_name": "Python 3.6.10 64-bit ('env_l2rpn': conda)"
  }
 },
 "nbformat": 4,
 "nbformat_minor": 2
}